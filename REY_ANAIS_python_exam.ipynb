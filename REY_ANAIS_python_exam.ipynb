{
 "cells": [
  {
   "cell_type": "markdown",
   "metadata": {},
   "source": [
    "# Extraction des séquences codantes (CDS) annotées sur le génome de la levure *Saccharomyces Cerevisiae*\n",
    "    \n",
    "## Enoncé du mini-projet\n",
    "\n",
    "Le fichier [S_cerevisiae_chromosomes.fna](./S_cerevisiae_chromosomes.fna) contient les 16 **séquences chromosomiques** de la levure *Saccharomyces cerevisiae*.\n",
    "\n",
    "```\n",
    ">BK006935.2 TPA_inf: Saccharomyces cerevisiae S288c chromosome I, complete sequence\n",
    "ccacaccacacccacacacccacacaccacaccacacaccacaccacacccacacacacacatCCTAACACTACCCTAAC\n",
    "ACAGCCCTAATCTAACCCTGGCCAACCTGTCTCTCAACTTACCCTCCATTACCCTGCCTCCACTCGTTACCCTGTCCCAT\n",
    "TCAACCATACCACTCCGAACCACCATCCATCCCTCTACTTACTACCACTCACCCACCGTTACCCTCCAATTACCCATATC\n",
    "...\n",
    "```\n",
    "\n",
    "Le fichier [S_cerevisiae_annotations.gff](./S_cerevisiae_annotations.gff) contient l’**annotation** du génome de la levure *Saccharomyces cerevisiae*.\n",
    "\n",
    "```\n",
    "##gff-version 3\n",
    "#!gff-spec-version 1.20\n",
    "#!processor NCBI annotwriter\n",
    "#!genome-build R64-1-1\n",
    "#!genome-build-accession NCBI_Assembly:GCA_000146045.2\n",
    "##sequence-region BK006935.2 1 230218\n",
    "##species http://www.ncbi.nlm.nih.gov/Taxonomy/Browser/wwwtax.cgi?id=559292\n",
    "BK006935.2\ttpg\tregion\t1\t230218\t.\t+\t.\tID=id0;Dbxref=taxon:559292;Name=I;chromosome=I;gbkey=Src;genome=chromosome;mol_type=genomic DNA;strain=S288c\n",
    "BK006935.2\ttpg\tregion\t1\t801\t.\t-\t.\tID=id1;Dbxref=SGD:S000028862;Note=TEL01L%3B Telomeric region on the left arm of Chromosome I%3B composed of an X element core sequence%2C X element combinatorial repeats%2C and a short terminal stretch of telomeric repeats;gbkey=telomere\n",
    "BK006935.2\ttpg\tgene\t1807\t2169\t.\t-\t.\tID=gene0;Name=PAU8;gbkey=Gene;gene=PAU8;locus_tag=YAL068C\n",
    "BK006935.2\ttpg\tmRNA\t1807\t2169\t.\t-\t.\tID=rna0;Parent=gene0;gbkey=mRNA;gene=PAU8;product=seripauperin PAU8\n",
    "BK006935.2\ttpg\texon\t1807\t2169\t.\t-\t.\tID=id3;Parent=rna0;gbkey=mRNA;gene=PAU8;product=seripauperin PAU8\n",
    "BK006935.2\ttpg\tCDS\t1807\t2169\t.\t-\t0\tID=cds0;Parent=rna0;Dbxref=SGD:S000002142,NCBI_GP:DAA06918.1;Name=DAA06918.1;Note=hypothetical protein%3B member of the seripauperin multigene family encoded mainly in subtelomeric regions;gbkey=CDS;gene=PAU8;product=seripauperin PAU8;protein_id=DAA06918.1\n",
    "...\n",
    "```\n",
    "\n",
    "L'objectif de cet exercice est de créer un **fichier multi-FASTA** contenant les **séquences** des **CDS** annotées (3e colonne contient \"CDS\").\n",
    "\n",
    "Vous trouverez le **nom de la séquence de référence** (1e colonne), les **positions de début** (4e colonne) et **de fin** (5e colonne), le **sens** de la séquence (7e colonne) ainsi que l'**identifiant** associé à la séquence codante (sous-partie \"ID=\" de la 9e colonne) dans le fichier d'annotation.\n",
    "\n",
    "Vous pourrez ainsi récupérer la portion de séquence d'intérêt dans le fichier multi-FASTA.\n",
    "\n",
    "**Exemple de sortie :**\n",
    "\n",
    "```\n",
    ">cds0\n",
    "ATGGTCAAATTAACTTCAATCGCCGCTGGTGTCGCTGCCATCGCTGCTACTGCTTCTGCA\n",
    "ACCACCACTCTAGCTCAATCTGACGAAAGAGTCAACTTGGTGGAATTGGGTGTCTACGTC\n",
    "TCTGATATCAGAGCTCACTTAGCCCAATACTACATGTTCCAAGCCGCCCACCCAACTGAA\n",
    "ACCTACCCAGTCGAAGTTGCTGAAGCCGTTTTCAACTACGGTGACTTCACCACCATGTTG\n",
    "ACCGGTATTGCTCCAGACCAAGTGACCAGAATGATCACCGGTGTTCCATGGTACTCCAGC\n",
    "AGATTAAAGCCAGCCATCTCCAGTGCTCTATCCAAGGACGGTATCTACACTATCGCAAAC\n",
    "TAG\n",
    "```"
   ]
  },
  {
   "cell_type": "markdown",
   "metadata": {},
   "source": [
    "## Import des librairies\n",
    "\n",
    "Voici les librairies qui peuvent vous être utiles."
   ]
  },
  {
   "cell_type": "code",
   "execution_count": 1,
   "metadata": {},
   "outputs": [],
   "source": [
    "from Bio import SeqIO\n",
    "from Bio.Seq import Seq\n",
    "from Bio.SeqRecord import SeqRecord\n",
    "import pandas as pd\n",
    "import matplotlib.pyplot as plt\n",
    "# je rajoute numpy pour la création de l'histogramme\n",
    "import numpy as np"
   ]
  },
  {
   "cell_type": "markdown",
   "metadata": {},
   "source": [
    "## Lecture du fichier multi-FASTA"
   ]
  },
  {
   "cell_type": "markdown",
   "metadata": {},
   "source": [
    "La lecture du fichier multi-FASTA peut se faire de différentes manières. Au choix, vous pouvez utiliser :\n",
    "\n",
    "1. [Biopython](https://biopython.org/)\n",
    "\n",
    "Utiliser l'interface [SeqIO](https://biopython.org/wiki/SeqIO) de [Biopython](https://biopython.org/) afin de convertir le fichier multi-FASTA contenant les séquences de référence en dictionnaire.\n",
    "\n",
    "2. les fonctionnalités de base du langage Python\n",
    "\n",
    "_Principales étapes :_\n",
    "\n",
    "* parcourir en lecture le fichier multi-FASTA,\n",
    "* créer un dictionnaire (clé : nom de la séquence chromosomique , valeur : séquence chromosomique).\n",
    "\n",
    "**Point d'attention :** dans un fichier au format FASTA, la séquence peut être sur plusieurs lignes."
   ]
  },
  {
   "cell_type": "markdown",
   "metadata": {},
   "source": [
    "Création du dictionnaire contenant le fichier multi-FASTA"
   ]
  },
  {
   "cell_type": "code",
   "execution_count": 23,
   "metadata": {},
   "outputs": [],
   "source": [
    "# on définit le dictionnaire vide qu'on va remplir avec les clés correspondant au header du fasta et les valeurs correspondant aux séquences\n",
    "chromo_dict = {}\n",
    "# on parcours le fichier fasta ligne par ligne\n",
    "with open(\"S_cerevisiae_chromosomes.fna\", \"r\") as fasta_file:\n",
    "    # on crée une chaine de charactère vide qui correspondra à la clé du dictionnaire pour chaque séquence \n",
    "    fasta_id = \"\"\n",
    "    # on lit le fichier fasta ligne par ligne avec une boucle\n",
    "    for line in fasta_file:\n",
    "        # si la ligne commence par \">\" on définit fasta_id avec la valeur de la ligne et \n",
    "        # on garde seulement le ID de la séquence en gardant uniquement le premier élément avant le premier espace \n",
    "        if line.startswith(\">\"):\n",
    "            fasta_id = line[1:].split()[0]\n",
    "            # on définit la valeur de clé comme étant nulle \n",
    "            chromo_dict[fasta_id] = \"\"\n",
    "        # on redéfinit la valeur de la clé en récupérant la séquence (ie toutes les lignes après la ligne avec > jusqu'à la prochaine ligne avec >) en enlevant les retours à la ligne\n",
    "        else:\n",
    "            chromo_dict[fasta_id] += line.strip()"
   ]
  },
  {
   "cell_type": "markdown",
   "metadata": {},
   "source": [
    "On vérifie qu'on a bien crée un dictionnaire"
   ]
  },
  {
   "cell_type": "code",
   "execution_count": 24,
   "metadata": {},
   "outputs": [
    {
     "data": {
      "text/plain": [
       "dict"
      ]
     },
     "execution_count": 24,
     "metadata": {},
     "output_type": "execute_result"
    }
   ],
   "source": [
    "type(chromo_dict)"
   ]
  },
  {
   "cell_type": "markdown",
   "metadata": {},
   "source": [
    "On vérifie que les clés du dictionnaire correspondent bien aux séquences ID des 16 séquences fasta"
   ]
  },
  {
   "cell_type": "code",
   "execution_count": 25,
   "metadata": {},
   "outputs": [
    {
     "data": {
      "text/plain": [
       "dict_keys(['BK006935.2', 'BK006936.2', 'BK006937.2', 'BK006938.2', 'BK006939.2', 'BK006940.2', 'BK006941.2', 'BK006934.2', 'BK006942.2', 'BK006943.2', 'BK006944.2', 'BK006945.2', 'BK006946.2', 'BK006947.3', 'BK006948.2', 'BK006949.2'])"
      ]
     },
     "execution_count": 25,
     "metadata": {},
     "output_type": "execute_result"
    }
   ],
   "source": [
    "chromo_dict.keys()"
   ]
  },
  {
   "cell_type": "markdown",
   "metadata": {},
   "source": [
    "## Lecture du fichier GFF3"
   ]
  },
  {
   "cell_type": "markdown",
   "metadata": {},
   "source": [
    "### Création du *dataframe*\n",
    "\n",
    "Créer un *dataframe* avec la librairie [Pandas](https://python.sdv.univ-paris-diderot.fr/17_modules_interet_bioinfo/#174-module-pandas) à partir du fichier au [format GFF3](http://gmod.org/wiki/GFF3) contenant l'annotation.\n",
    "\n",
    "Les colonnes seront nommées de la manière suivante pour plus de lisibilité :\n",
    "\n",
    "* colonne 1 : seqname\n",
    "* colonne 2 : source\n",
    "* colonne 3 : type\n",
    "* colonne 4 : start\n",
    "* colonne 5 : end\n",
    "* colonne 6 : score\n",
    "* colonne 7 : strand\n",
    "* colonne 8 : frame\n",
    "* colonne 9 : attributes"
   ]
  },
  {
   "cell_type": "markdown",
   "metadata": {},
   "source": [
    "On crée le dataframe en précisant le séparateur entre les colonnes (ici la tabulation) sans garder les lignes commencant par #"
   ]
  },
  {
   "cell_type": "code",
   "execution_count": 12,
   "metadata": {},
   "outputs": [],
   "source": [
    "gff_df = pd.read_csv(\"S_cerevisiae_annotations.gff\", sep= \"\\t\", comment=\"#\")"
   ]
  },
  {
   "cell_type": "code",
   "execution_count": 14,
   "metadata": {},
   "outputs": [
    {
     "data": {
      "text/html": [
       "<div>\n",
       "<style scoped>\n",
       "    .dataframe tbody tr th:only-of-type {\n",
       "        vertical-align: middle;\n",
       "    }\n",
       "\n",
       "    .dataframe tbody tr th {\n",
       "        vertical-align: top;\n",
       "    }\n",
       "\n",
       "    .dataframe thead th {\n",
       "        text-align: right;\n",
       "    }\n",
       "</style>\n",
       "<table border=\"1\" class=\"dataframe\">\n",
       "  <thead>\n",
       "    <tr style=\"text-align: right;\">\n",
       "      <th></th>\n",
       "      <th>BK006935.2</th>\n",
       "      <th>tpg</th>\n",
       "      <th>region</th>\n",
       "      <th>1</th>\n",
       "      <th>230218</th>\n",
       "      <th>.</th>\n",
       "      <th>+</th>\n",
       "      <th>..1</th>\n",
       "      <th>ID=id0;Dbxref=taxon:559292;Name=I;chromosome=I;gbkey=Src;genome=chromosome;mol_type=genomic DNA;strain=S288c</th>\n",
       "    </tr>\n",
       "  </thead>\n",
       "  <tbody>\n",
       "    <tr>\n",
       "      <th>0</th>\n",
       "      <td>BK006935.2</td>\n",
       "      <td>tpg</td>\n",
       "      <td>region</td>\n",
       "      <td>1</td>\n",
       "      <td>801</td>\n",
       "      <td>.</td>\n",
       "      <td>-</td>\n",
       "      <td>.</td>\n",
       "      <td>ID=id1;Dbxref=SGD:S000028862;Note=TEL01L%3B Te...</td>\n",
       "    </tr>\n",
       "    <tr>\n",
       "      <th>1</th>\n",
       "      <td>BK006935.2</td>\n",
       "      <td>tpg</td>\n",
       "      <td>region</td>\n",
       "      <td>707</td>\n",
       "      <td>776</td>\n",
       "      <td>.</td>\n",
       "      <td>+</td>\n",
       "      <td>.</td>\n",
       "      <td>ID=id2;Dbxref=SGD:S000121252;Note=ARS102~Auton...</td>\n",
       "    </tr>\n",
       "    <tr>\n",
       "      <th>2</th>\n",
       "      <td>BK006935.2</td>\n",
       "      <td>tpg</td>\n",
       "      <td>gene</td>\n",
       "      <td>1807</td>\n",
       "      <td>2169</td>\n",
       "      <td>.</td>\n",
       "      <td>-</td>\n",
       "      <td>.</td>\n",
       "      <td>ID=gene0;Name=PAU8;gbkey=Gene;gene=PAU8;locus_...</td>\n",
       "    </tr>\n",
       "    <tr>\n",
       "      <th>3</th>\n",
       "      <td>BK006935.2</td>\n",
       "      <td>tpg</td>\n",
       "      <td>mRNA</td>\n",
       "      <td>1807</td>\n",
       "      <td>2169</td>\n",
       "      <td>.</td>\n",
       "      <td>-</td>\n",
       "      <td>.</td>\n",
       "      <td>ID=rna0;Parent=gene0;gbkey=mRNA;gene=PAU8;prod...</td>\n",
       "    </tr>\n",
       "    <tr>\n",
       "      <th>4</th>\n",
       "      <td>BK006935.2</td>\n",
       "      <td>tpg</td>\n",
       "      <td>exon</td>\n",
       "      <td>1807</td>\n",
       "      <td>2169</td>\n",
       "      <td>.</td>\n",
       "      <td>-</td>\n",
       "      <td>.</td>\n",
       "      <td>ID=id3;Parent=rna0;gbkey=mRNA;gene=PAU8;produc...</td>\n",
       "    </tr>\n",
       "  </tbody>\n",
       "</table>\n",
       "</div>"
      ],
      "text/plain": [
       "   BK006935.2  tpg  region     1  230218  .  + ..1  \\\n",
       "0  BK006935.2  tpg  region     1     801  .  -   .   \n",
       "1  BK006935.2  tpg  region   707     776  .  +   .   \n",
       "2  BK006935.2  tpg    gene  1807    2169  .  -   .   \n",
       "3  BK006935.2  tpg    mRNA  1807    2169  .  -   .   \n",
       "4  BK006935.2  tpg    exon  1807    2169  .  -   .   \n",
       "\n",
       "  ID=id0;Dbxref=taxon:559292;Name=I;chromosome=I;gbkey=Src;genome=chromosome;mol_type=genomic DNA;strain=S288c  \n",
       "0  ID=id1;Dbxref=SGD:S000028862;Note=TEL01L%3B Te...                                                            \n",
       "1  ID=id2;Dbxref=SGD:S000121252;Note=ARS102~Auton...                                                            \n",
       "2  ID=gene0;Name=PAU8;gbkey=Gene;gene=PAU8;locus_...                                                            \n",
       "3  ID=rna0;Parent=gene0;gbkey=mRNA;gene=PAU8;prod...                                                            \n",
       "4  ID=id3;Parent=rna0;gbkey=mRNA;gene=PAU8;produc...                                                            "
      ]
     },
     "execution_count": 14,
     "metadata": {},
     "output_type": "execute_result"
    }
   ],
   "source": [
    "# On regarde le début du dataframe\n",
    "gff_df.head()"
   ]
  },
  {
   "cell_type": "code",
   "execution_count": 15,
   "metadata": {},
   "outputs": [
    {
     "data": {
      "text/plain": [
       "(26305, 9)"
      ]
     },
     "execution_count": 15,
     "metadata": {},
     "output_type": "execute_result"
    }
   ],
   "source": [
    "# On regarde ses dimensions (nombre de lignes, nombre de colonnes)\n",
    "gff_df.shape"
   ]
  },
  {
   "cell_type": "code",
   "execution_count": 16,
   "metadata": {},
   "outputs": [
    {
     "data": {
      "text/plain": [
       "BK006935.2                                                                                                      object\n",
       "tpg                                                                                                             object\n",
       "region                                                                                                          object\n",
       "1                                                                                                                int64\n",
       "230218                                                                                                           int64\n",
       ".                                                                                                               object\n",
       "+                                                                                                               object\n",
       "..1                                                                                                             object\n",
       "ID=id0;Dbxref=taxon:559292;Name=I;chromosome=I;gbkey=Src;genome=chromosome;mol_type=genomic DNA;strain=S288c    object\n",
       "dtype: object"
      ]
     },
     "execution_count": 16,
     "metadata": {},
     "output_type": "execute_result"
    }
   ],
   "source": [
    "# On regarde quel est le type de chaque colonne\n",
    "gff_df.dtypes"
   ]
  },
  {
   "cell_type": "code",
   "execution_count": 17,
   "metadata": {},
   "outputs": [],
   "source": [
    "# On change le nom des colonnes\n",
    "gff_df.columns = [\"seqname\", \"source\", \"type\", \"start\", \"end\", \"score\", \"strand\", \"frame\", \"attributes\"]"
   ]
  },
  {
   "cell_type": "code",
   "execution_count": 18,
   "metadata": {},
   "outputs": [
    {
     "data": {
      "text/plain": [
       "Index(['seqname', 'source', 'type', 'start', 'end', 'score', 'strand', 'frame',\n",
       "       'attributes'],\n",
       "      dtype='object')"
      ]
     },
     "execution_count": 18,
     "metadata": {},
     "output_type": "execute_result"
    }
   ],
   "source": [
    "# On vérifie que le changement est OK\n",
    "gff_df.columns"
   ]
  },
  {
   "cell_type": "markdown",
   "metadata": {},
   "source": [
    "### Filtrage du *dataframe*\n",
    "\n",
    "Filtrer le *dataframe* afin de ne conserver que les *features* de type **CDS** et les colonnes d'intérêt suivantes :\n",
    "\n",
    "* seqname : identifiant de la séquence de référence\n",
    "* start : position de début de la séquence codante\n",
    "* end : position de fin de la séquence codante\n",
    "* strand : brin de la séquence codante\n",
    "* attributes : informations supplémentaires dont l'identifiant (ID) de la séquence"
   ]
  },
  {
   "cell_type": "code",
   "execution_count": 19,
   "metadata": {},
   "outputs": [
    {
     "data": {
      "text/plain": [
       "(6220, 5)"
      ]
     },
     "execution_count": 19,
     "metadata": {},
     "output_type": "execute_result"
    }
   ],
   "source": [
    "# On utilise les booléens (gff_df[\"type\"] == \"CDS\" ===> qui dit pour chaque position si c'est TRUE ou FALSE) pour garder seulement les lignes qui ont dans la colonne type le feature CDS\n",
    "gff_df_CDS = gff_df[gff_df[\"type\"] == \"CDS\"]\n",
    "# On garder seulement les 5 colonnes suivantes\n",
    "gff_df_CDS = gff_df_CDS[[\"seqname\", \"start\", \"end\", \"strand\", \"attributes\"]]\n",
    "# On regarde les dimensions de notre nouveau dataframe (nombre de lignes, nombre de colonnes)\n",
    "gff_df_CDS.shape"
   ]
  },
  {
   "cell_type": "markdown",
   "metadata": {},
   "source": [
    "## Ecriture du fichier multi-FASTA\n",
    "\n",
    "La sortie attendue doit contenir l'ensemble des séquences codantes (CDS) du génome au **format FASTA**. Les informations de chaque CDS présentes dans le *dataframe* vont permettre d'extraire leurs séquences à partir du dictionnaire contenant les séquences de référence.\n",
    "\n",
    "Grâce aux positions de début et de fin du *feature* de type CDS, vous pouvez extraire sa séquence à partir du dictionnaire préalablement créé. Dans le cas où l'élement est positionné sur le brin -, il faudra \"inverse complémenter\" la séquence :\n",
    "\n",
    "```\n",
    "séquence initiale :               5'-ATGC-3'\n",
    "séquence complémentaire :         3'-TACG-5'\n",
    "séquence inverse complémentaire : 5'-GCAT-3'\n",
    "```\n",
    "\n",
    "Plusieurs possibilités s'offrent à vous :\n",
    "\n",
    "1. Si vous avez utilisé [Biopython](https://biopython.org/) pour lire le fichier multi-FASTA, utiliser également l'interface [SeqIO](https://biopython.org/wiki/SeqIO) et l'objet [SeqRecord](https://biopython.org/wiki/SeqRecord) de [Biopython](https://biopython.org/) afin d'écrire le fichier de sortie au format attendu. La fonction `reverse_complement()` vous sera d'une grande aide.\n",
    "\n",
    "2. Si vous n'avez pas utilisé [Biopython](https://biopython.org/) pour lire le fichier multi-FASTA, implémenter vous-même le *reverse complement* avec les fonctionnalités de base du langage Python."
   ]
  },
  {
   "cell_type": "code",
   "execution_count": 27,
   "metadata": {},
   "outputs": [],
   "source": [
    "# On définit le dictionnaire vide que l'on va remplir au fur et à mesure à l'aide de la boucle for\n",
    "cds_dict={}\n",
    "# On fait la boucle en itérant sur chaque index du fichier gff_CDS (fichier contenant seulement les séquences codantes CDS)\n",
    "for ind in gff_df_CDS.index:\n",
    "\t# 1- On initialize les arguments avec:\n",
    "    # seq qui est le nom de la séquence où le CDS se trouve\n",
    "    seq = gff_df_CDS[\"seqname\"][ind]\n",
    "    # start_seq et end_seq qui sont les positions correspondant à la séquence du CDS sur les chromosomes\n",
    "    start_seq= gff_df_CDS[\"start\"][ind] - 1\n",
    "    end_seq= gff_df_CDS[\"end\"][ind]\n",
    "    # strand qui décrit si la séquence est le brin sens (+) ou antisens (-)\n",
    "    strand = gff_df_CDS[\"strand\"][ind]\n",
    "    # 2- On crée une clé contenant le nom du CDS (cds0, cds1, ...)  \n",
    "    # on s'assure que la séquence est bien dans le dictionnaire contenant les séquences chromosomiques\n",
    "    if seq in chromo_dict:\n",
    "        # on récupère la colonne attributes qui contient le nom du CDS (cds0, cds1, ...) avec d'autres infos\n",
    "        cds_id_tmp = gff_df_CDS[\"attributes\"][ind]\n",
    "        # on garde seulement le nom du CDS (ie on enlève tous ce qui est après ID=cdsx)\n",
    "        cds_id = cds_id_tmp.split(\";\", maxsplit=1) \n",
    "        cds_id = cds_id[0]\n",
    "        # on enlève le ID= pour garder que cdsx\n",
    "        cds_id = cds_id.replace(\"ID=\",\"\")\n",
    "        # on crée pour chaque CDS sa valeur dans le dictionnaire (ie la séquence fasta du chromosome correspondante)\n",
    "        cds_dict[cds_id] = chromo_dict[seq]\n",
    "        # on coupe la séquence aux position start et end\n",
    "        cds_dict[cds_id] = cds_dict[cds_id][start_seq:end_seq]\n",
    "        # 3- On reverse-complement la séquence du CDS si elle correspond au brin anti-sens\n",
    "        # si la séquence du CDS correspond au brin anti-sens\n",
    "        if strand == \"-\":\n",
    "            # on tranforme la valeur de la clé en liste \n",
    "            cds_list = list(cds_dict[cds_id])\n",
    "            # on inverse l'ordre des arguments (ici bases) de la liste \n",
    "            cds_list.reverse()\n",
    "            # on re-affecte la séquence reverse à la valeur de la clé\n",
    "            cds_dict[cds_id] = cds_list\n",
    "            # on creé une liste vide\n",
    "            complement = []\n",
    "            # pour chaque argument dans la liste, on modifie la base pour avoir son complement\n",
    "            for base in cds_dict[cds_id]:\n",
    "                if base == 'A' or base == 'a' :\n",
    "                    complement.append('T')\n",
    "                if base == 'T' or base == 't' :\n",
    "                    complement.append('A')\n",
    "                if base == 'G' or base == 'g' :\n",
    "                    complement.append('C')\n",
    "                if base == 'C' or base == 'c' :\n",
    "                    complement.append('G')\n",
    "            # on transforme la liste en chaine de charactère\n",
    "            complement = ''.join(complement)  \n",
    "            # on re-affecte la séquence reverse-complémentée à la valeur de la clé\n",
    "            cds_dict[cds_id] = complement"
   ]
  },
  {
   "cell_type": "markdown",
   "metadata": {},
   "source": [
    "On vérifie que pour le premier cds la valeur de cette clé correspond bien à la séquence reverse-complémentée de la portion de la séquence"
   ]
  },
  {
   "cell_type": "code",
   "execution_count": 28,
   "metadata": {},
   "outputs": [
    {
     "data": {
      "text/plain": [
       "'ATGGTCAAATTAACTTCAATCGCCGCTGGTGTCGCTGCCATCGCTGCTACTGCTTCTGCAACCACCACTCTAGCTCAATCTGACGAAAGAGTCAACTTGGTGGAATTGGGTGTCTACGTCTCTGATATCAGAGCTCACTTAGCCCAATACTACATGTTCCAAGCCGCCCACCCAACTGAAACCTACCCAGTCGAAGTTGCTGAAGCCGTTTTCAACTACGGTGACTTCACCACCATGTTGACCGGTATTGCTCCAGACCAAGTGACCAGAATGATCACCGGTGTTCCATGGTACTCCAGCAGATTAAAGCCAGCCATCTCCAGTGCTCTATCCAAGGACGGTATCTACACTATCGCAAACTAG'"
      ]
     },
     "execution_count": 28,
     "metadata": {},
     "output_type": "execute_result"
    }
   ],
   "source": [
    "cds_dict[\"cds0\"]"
   ]
  },
  {
   "cell_type": "markdown",
   "metadata": {},
   "source": [
    "On creé à partir du dictionnaire un fichier fasta qu'on enregistre sous le nom \"S_cerevisiae_CDS.fasta\" "
   ]
  },
  {
   "cell_type": "code",
   "execution_count": 29,
   "metadata": {},
   "outputs": [],
   "source": [
    "# Liste contenant les séquences à écrire au format FASTA\n",
    "sequences = []\n",
    "\n",
    "# Parcours du dictionnaire (des séquences)\n",
    "for feature in cds_dict:\n",
    "    # Création d'une séquence Seq\n",
    "    sequence = Seq(cds_dict[feature])\n",
    "    # Ajout des séquences (SeqRecord) dans la liste\n",
    "    sequences.append(SeqRecord(sequence, id=feature, description=''))\n",
    "\n",
    "# Ecriture au format FASTA\n",
    "with open(\"S_cerevisiae_CDS.fasta\", \"w\") as fasta_output:\n",
    "    SeqIO.write(sequences, fasta_output, \"fasta\")"
   ]
  },
  {
   "cell_type": "markdown",
   "metadata": {},
   "source": [
    "**Remarque:**  On récupère 5893 séquences de CDS alors que dans le fichier gff_CDS on a 6220 lignes, j'ai vu que plusieurs CDS ont plusieurs portions codantes sur le chromosome (ex pour cds 106 sur BK006936.2) du coup le script de dessus ne prends pas en compte cette caractéristique car un dictionnaire ne peut pas avoir deux fois la même clé (\"cds 106\"). Je ne sais pas vraiment ce qui est approprié de faire dans ce cas là."
   ]
  },
  {
   "cell_type": "markdown",
   "metadata": {},
   "source": [
    "## Répartition des différents types de *features* sur le génome\n",
    "\n",
    "Créer un graphique sous forme de barre horizontale via la librairie [Matplotlib](https://matplotlib.org/3.2.1/gallery/lines_bars_and_markers/barh.html) afin de représenter le nombre des différents types de *features* annotés sur le génome.\n",
    "\n",
    "Récupérer le nombre de chaque *features* à partir de votre **dataframe**."
   ]
  },
  {
   "cell_type": "code",
   "execution_count": 30,
   "metadata": {},
   "outputs": [
    {
     "data": {
      "text/plain": [
       "Text(0.5, 1.0, 'Nombre des différents types de features annotés sur le génome')"
      ]
     },
     "execution_count": 30,
     "metadata": {},
     "output_type": "execute_result"
    },
    {
     "data": {
      "image/png": "[encoded data removed]",
      "text/plain": [
       "<Figure size 432x288 with 1 Axes>"
      ]
     },
     "metadata": {
      "needs_background": "light"
     },
     "output_type": "display_data"
    }
   ],
   "source": [
    "# On récupère le nombre de chaque feature dans le dataframe et on transforme l'objet panda.serie en liste\n",
    "gff_type_stat = list(gff_df[\"type\"].value_counts())\n",
    "\n",
    "# On récupère les noms des chaque feature correspondant et on transforme l'objet en liste\n",
    "gff_type_name = list(gff_df[\"type\"].value_counts().index[:])\n",
    "\n",
    "# On définit la position des barres pour l'histogramme\n",
    "x = np.arange(len(gff_type_name))\n",
    "# On crée le plot en utilisant .barh pour avoir un histogramme horizontal\n",
    "plt.barh(x, gff_type_stat)\n",
    "# On redéfinit les étiquettes \n",
    "plt.yticks(x, gff_type_name)\n",
    "# On rajoute une légende à chaque axe\n",
    "plt.xlabel(\"Nombre\")\n",
    "plt.ylabel(\"Type de features\")\n",
    "# On rajoute un titre final à l'histogramme\n",
    "plt.title(\"Nombre des différents types de features annotés sur le génome\")"
   ]
  },
  {
   "cell_type": "code",
   "execution_count": null,
   "metadata": {},
   "outputs": [],
   "source": []
  },
  {
   "cell_type": "code",
   "execution_count": null,
   "metadata": {},
   "outputs": [],
   "source": []
  }
 ],
 "metadata": {
  "kernelspec": {
   "display_name": "Python 3",
   "language": "python",
   "name": "python3"
  },
  "language_info": {
   "codemirror_mode": {
    "name": "ipython",
    "version": 3
   },
   "file_extension": ".py",
   "mimetype": "text/x-python",
   "name": "python",
   "nbconvert_exporter": "python",
   "pygments_lexer": "ipython3",
   "version": "3.7.7"
  }
 },
 "nbformat": 4,
 "nbformat_minor": 4
}
